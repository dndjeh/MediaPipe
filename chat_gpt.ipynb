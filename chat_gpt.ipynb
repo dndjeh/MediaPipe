{
 "cells": [
  {
   "cell_type": "code",
   "execution_count": 1,
   "metadata": {},
   "outputs": [
    {
     "name": "stderr",
     "output_type": "stream",
     "text": [
      "2024-03-20 09:23:04.595 Python[21846:5051982] WARNING: Secure coding is not enabled for restorable state! Enable secure coding by implementing NSApplicationDelegate.applicationSupportsSecureRestorableState: and returning YES.\n"
     ]
    }
   ],
   "source": [
    "from tkinter import *\n",
    "from tkinter import ttk \n",
    "from tkinter import filedialog\n",
    "import os\n",
    "from openai import OpenAI\n",
    "\n",
    "window = Tk()\n",
    "window.title(\"chat gpt와 함께하는 발표 스크립트 짜기\")\n",
    "window.geometry(\"600x800\")\n",
    "\n",
    "user_question=\"\""
   ]
  },
  {
   "cell_type": "code",
   "execution_count": 2,
   "metadata": {},
   "outputs": [],
   "source": [
    "client = OpenAI(api_key=\"\")\n",
    "\n",
    "def ask_gpt(question):\n",
    "  global gpt_answer\n",
    "  \n",
    "  response = client.chat.completions.create(\n",
    "    model=\"gpt-3.5-turbo\",\n",
    "    messages=[\n",
    "      {\"role\": \"system\", \"content\": \"You're the assistant who polishes the presentation script.\"},\n",
    "      {\"role\": \"user\", \"content\": question}\n",
    "      ],\n",
    "  )\n",
    "  gpt_answer=response.choices[0].message.content\n",
    "  return gpt_answer\n",
    "  \n",
    "    "
   ]
  },
  {
   "cell_type": "code",
   "execution_count": 3,
   "metadata": {},
   "outputs": [],
   "source": [
    "def background_question():\n",
    "    global user_question\n",
    "    global background_answer\n",
    "    user_question=\"배경: \"\n",
    "    user_question+=background_answer.get()\n",
    "    user_question+=\"\\n\"\n",
    "    print(user_question)"
   ]
  },
  {
   "cell_type": "code",
   "execution_count": 4,
   "metadata": {},
   "outputs": [
    {
     "data": {
      "text/plain": [
       "'def script_question():\\n    global user_question\\n    global script_answer\\n    user_question+=\"발표 스크립트: \"\\n    # user_question+=script_answer.get()\\n    user_question+=script_answer\\n    user_question+=\"\\n 이걸 토대로 덜 쓴 부분 주제랑 배경에 맞게 추가해주고, 문장을 다듬어 주는 등 발표 스크립트를 있어보이게 해줘\"\\n    ask_gpt(user_question)'"
      ]
     },
     "execution_count": 4,
     "metadata": {},
     "output_type": "execute_result"
    }
   ],
   "source": [
    "'''def script_question():\n",
    "    global user_question\n",
    "    global script_answer\n",
    "    user_question+=\"발표 스크립트: \"\n",
    "    # user_question+=script_answer.get()\n",
    "    user_question+=script_answer\n",
    "    user_question+=\"\\n 이걸 토대로 덜 쓴 부분 주제랑 배경에 맞게 추가해주고, 문장을 다듬어 주는 등 발표 스크립트를 있어보이게 해줘\"\n",
    "    ask_gpt(user_question)'''"
   ]
  },
  {
   "cell_type": "code",
   "execution_count": 5,
   "metadata": {},
   "outputs": [],
   "source": [
    "def script_question():\n",
    "    global user_question\n",
    "    global label_gpt_answer\n",
    "    \n",
    "    user_question=user_question+\"발표 스크립트: \"\n",
    "    file_path = filedialog.askopenfilename()\n",
    "    user_question+=open(file_path, 'r').read()\n",
    "    user_question+=\"\\n 이걸 토대로 덜 쓴 부분 주제랑 배경에 맞게 추가해주고, 문장을 다듬어 주는 등 발표 스크립트를 있어보이게 해줘\"\n",
    "    print(user_question)\n",
    "    gpt_answer=ask_gpt(user_question)\n",
    "    \n",
    "    label_gpt_answer=ttk.Label(window, text=gpt_answer)\n",
    "    label_gpt_answer.config(wraplength = 550)\n",
    "    label_gpt_answer.pack()"
   ]
  },
  {
   "cell_type": "code",
   "execution_count": 6,
   "metadata": {},
   "outputs": [],
   "source": [
    "def save_answer():\n",
    "    global gpt_answer\n",
    "    global num\n",
    "\n",
    "    num+=1\n",
    "    file_name=\"gpt_answer\"+str(num)+\".txt\"\n",
    "    file=open(file_name, \"w\")\n",
    "    file.write(gpt_answer)\n",
    "    file.close()"
   ]
  },
  {
   "cell_type": "code",
   "execution_count": 7,
   "metadata": {},
   "outputs": [],
   "source": [
    "def re_question():\n",
    "    global user_question\n",
    "    global label_gpt_answer\n",
    "    \n",
    "    gpt_answer=ask_gpt(user_question)\n",
    "    label_gpt_answer.config(text=gpt_answer)\n",
    "    label_gpt_answer.config(wraplength = 550)\n",
    "    "
   ]
  },
  {
   "cell_type": "code",
   "execution_count": 8,
   "metadata": {},
   "outputs": [],
   "source": [
    "question1=ttk.Label(window, text=\"도우미: 어떤 상황에 발표를 하나요?\")\n",
    "question1.pack()"
   ]
  },
  {
   "cell_type": "code",
   "execution_count": 9,
   "metadata": {},
   "outputs": [],
   "source": [
    "background_answer=ttk.Entry(window)\n",
    "background_answer.pack()\n",
    "btn=Button(window, text=\"입력하기\", command=background_question)\n",
    "btn.pack()"
   ]
  },
  {
   "cell_type": "code",
   "execution_count": 10,
   "metadata": {},
   "outputs": [
    {
     "data": {
      "text/plain": [
       "'question2=ttk.Label(window, text=\"도우미: 스크립트를 선택해주세요\")\\nquestion2.pack()\\n#입력창이 복붙이 안됨 테스트 할 때는 걍 붙일게\\nscript_answer=ttk.Entry(window)\\nscript_answer.pack()\\nbtn2=Button(window, text=\"클릭해서 스크립트 다듬기\", command=script_question)\\nbtn2.pack()'"
      ]
     },
     "execution_count": 10,
     "metadata": {},
     "output_type": "execute_result"
    }
   ],
   "source": [
    "'''question2=ttk.Label(window, text=\"도우미: 스크립트를 선택해주세요\")\n",
    "question2.pack()\n",
    "#입력창이 복붙이 안됨 테스트 할 때는 걍 붙일게\n",
    "script_answer=ttk.Entry(window)\n",
    "script_answer.pack()\n",
    "btn2=Button(window, text=\"클릭해서 스크립트 다듬기\", command=script_question)\n",
    "btn2.pack()'''"
   ]
  },
  {
   "cell_type": "code",
   "execution_count": 11,
   "metadata": {},
   "outputs": [],
   "source": [
    "question2=ttk.Label(window, text=\"도우미: 스크립트를 선택해주세요\")\n",
    "question2.pack() \n",
    "\n",
    "gpt_answer=\"\"\n",
    "btn_question2_click=Button(window, text=\"클릭\", command=script_question)\n",
    "btn_question2_click.pack()"
   ]
  },
  {
   "cell_type": "code",
   "execution_count": 12,
   "metadata": {},
   "outputs": [],
   "source": [
    "num=0\n",
    "btn_save_answer=Button(window, text=\"답변 파일로 저장하기\", command=save_answer)\n",
    "btn_requestion=Button(window, text=\"다시 답변받기\", command=re_question)\n",
    "\n",
    "btn_save_answer.pack()\n",
    "btn_requestion.pack()"
   ]
  },
  {
   "cell_type": "code",
   "execution_count": 13,
   "metadata": {},
   "outputs": [
    {
     "name": "stderr",
     "output_type": "stream",
     "text": [
      "2024-03-20 09:23:11.440 Python[21846:5051982] TSM AdjustCapsLockLEDForKeyTransitionHandling - _ISSetPhysicalKeyboardCapsLockLED Inhibit\n"
     ]
    },
    {
     "name": "stdout",
     "output_type": "stream",
     "text": [
      "배경: 고등학교 사회수업에서 재활용의 중요성에 대해 발표\n",
      "\n",
      "배경: 고등학교 사회수업에서 재활용의 중요성에 대해 발표\n",
      "발표 스크립트: 저는 오늘 여러분에게 \"재활용의 중요성\"에 대해 알려드리고자 합니다. 재활용은 우리 모두에게 익숙한 단어일지 모르겠지만, 그 중요성을 다시 한 번 고려해 보는 것은 매우 중요합니다.\n",
      "\n",
      "첫 번째로, 재활용은 환경을 보호하는 데 매우 중요한 역할을 합니다. 우리는 매일 다양한 종류의 폐기물을 생성하고 있습니다. 이 폐기물이 쌓이면서 자연 환경에 해를 끼칠 수 있습니다. 재활용을 통해 폐기물의 양을 줄이고 자원을 보존할 수 있습니다. 자원의 보전은 지구의 생태계에 긍정적인 영향을 미치며, 지속 가능한 환경을 만들어갈 수 있습니다.\n",
      "\n",
      "두번째부터는 생각 못했습니다. 감사합니다.\n",
      " 이걸 토대로 덜 쓴 부분 주제랑 배경에 맞게 추가해주고, 문장을 다듬어 주는 등 발표 스크립트를 있어보이게 해줘\n"
     ]
    },
    {
     "ename": "",
     "evalue": "",
     "output_type": "error",
     "traceback": [
      "\u001b[1;31m현재 셀 또는 이전 셀에서 코드를 실행하는 동안 Kernel이 충돌했습니다. \n",
      "\u001b[1;31m셀의 코드를 검토하여 가능한 오류 원인을 식별하세요. \n",
      "\u001b[1;31m자세한 내용을 보려면 <a href='https://aka.ms/vscodeJupyterKernelCrash'>여기</a>를 클릭하세요. \n",
      "\u001b[1;31m자세한 내용은 Jupyter <a href='command:jupyter.viewOutput'>로그</a>를 참조하세요."
     ]
    }
   ],
   "source": [
    "window.mainloop()"
   ]
  }
 ],
 "metadata": {
  "kernelspec": {
   "display_name": "Python 3",
   "language": "python",
   "name": "python3"
  },
  "language_info": {
   "codemirror_mode": {
    "name": "ipython",
    "version": 3
   },
   "file_extension": ".py",
   "mimetype": "text/x-python",
   "name": "python",
   "nbconvert_exporter": "python",
   "pygments_lexer": "ipython3",
   "version": "3.11.4"
  }
 },
 "nbformat": 4,
 "nbformat_minor": 2
}
