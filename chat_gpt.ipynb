{
 "cells": [
  {
   "cell_type": "code",
   "execution_count": 1,
   "metadata": {},
   "outputs": [
    {
     "name": "stderr",
     "output_type": "stream",
     "text": [
      "2024-02-24 14:16:53.228 Python[50451:1486114] WARNING: Secure coding is not enabled for restorable state! Enable secure coding by implementing NSApplicationDelegate.applicationSupportsSecureRestorableState: and returning YES.\n"
     ]
    }
   ],
   "source": [
    "from tkinter import *\n",
    "from tkinter import ttk \n",
    "import os\n",
    "from openai import OpenAI\n",
    "\n",
    "window = Tk()\n",
    "window.title(\"chat gpt와 함께하는 발표 스크립트 짜기\")\n",
    "window.geometry(\"600x800\")\n",
    "\n",
    "user_question=\"\""
   ]
  },
  {
   "cell_type": "code",
   "execution_count": 2,
   "metadata": {},
   "outputs": [],
   "source": [
    "client = OpenAI(api_key=\"\")\n",
    "\n",
    "def ask_gpt(question):\n",
    "    \n",
    "    response = client.chat.completions.create(\n",
    "      model=\"gpt-3.5-turbo\",\n",
    "      messages=[\n",
    "        {\"role\": \"system\", \"content\": \"You're the assistant who polishes the presentation script.\"},\n",
    "        {\"role\": \"user\", \"content\": question}\n",
    "        ],\n",
    "      )\n",
    "    gpt_answer=ttk.Label(window, text=response.choices[0].message.content)\n",
    "    gpt_answer.pack()\n",
    "    "
   ]
  },
  {
   "cell_type": "code",
   "execution_count": 3,
   "metadata": {},
   "outputs": [],
   "source": [
    "def background_question():\n",
    "    global user_question\n",
    "    global background_answer\n",
    "    user_question=\"배경: \"\n",
    "    user_question+=background_answer.get()\n",
    "    user_question+=\"\\n\""
   ]
  },
  {
   "cell_type": "code",
   "execution_count": 4,
   "metadata": {},
   "outputs": [],
   "source": [
    "def script_question():\n",
    "    global user_question\n",
    "    global script_answer\n",
    "    user_question+=\"발표 스크립트: \"\n",
    "    #user_question+=script_answer.get()\n",
    "    user_question+=script_answer\n",
    "    user_question+=\"\\n 이걸 토대로 덜 쓴 부분 주제랑 배경에 맞게 추가해주고, 문장을 다듬어 주는 등 발표 스크립트를 있어보이게 해줘\"\n",
    "    ask_gpt(user_question)"
   ]
  },
  {
   "cell_type": "code",
   "execution_count": 5,
   "metadata": {},
   "outputs": [],
   "source": [
    "question1=ttk.Label(window, text=\"도우미: 어떤 상황에 발표를 하나요?\")\n",
    "question1.pack()"
   ]
  },
  {
   "cell_type": "code",
   "execution_count": 6,
   "metadata": {},
   "outputs": [],
   "source": [
    "background_answer=ttk.Entry(window)\n",
    "background_answer.pack()\n",
    "btn=Button(window, text=\"입력하기\", command=background_question)\n",
    "btn.pack()"
   ]
  },
  {
   "cell_type": "code",
   "execution_count": 7,
   "metadata": {},
   "outputs": [],
   "source": [
    "question2=ttk.Label(window, text=\"도우미: 스크립트를 작성해주세요\")\n",
    "question2.pack()\n",
    "\n",
    "# 입력창이 복붙이 안됨 테스트 할 때는 걍 붙일게\n",
    "# script_answer=ttk.Entry(window)\n",
    "# script_answer.pack()\n",
    "\n",
    "script_answer='''저는 오늘 여러분에게 \\\"재활용의 중요성\\\"에 대해 알려드리고자 합니다. 재활용은 우리 모두에게 익숙한 단어일지 모르겠지만, 그 중요성을 다시 한 번 고려해 보는 것은 매우 중요합니다.\n",
    "\n",
    "첫 번째로, 재활용은 환경을 보호하는 데 매우 중요한 역할을 합니다. 우리는 매일 다양한 종류의 폐기물을 생성하고 있습니다. 이 폐기물이 쌓이면서 자연 환경에 해를 끼칠 수 있습니다. 재활용을 통해 폐기물의 양을 줄이고 자원을 보존할 수 있습니다. 자원의 보전은 지구의 생태계에 긍정적인 영향을 미치며, 지속 가능한 환경을 만들어갈 수 있습니다.\n",
    "\n",
    "두번째부터는 생각 못했습니다. 감사합니다.'''\n",
    "btn2=Button(window, text=\"클릭해서 스크립트 다듬기\", command=script_question)\n",
    "btn2.pack()"
   ]
  },
  {
   "cell_type": "code",
   "execution_count": 8,
   "metadata": {},
   "outputs": [
    {
     "name": "stderr",
     "output_type": "stream",
     "text": [
      "2024-02-24 14:17:12.670 Python[50451:1486114] TSM AdjustCapsLockLEDForKeyTransitionHandling - _ISSetPhysicalKeyboardCapsLockLED Inhibit\n"
     ]
    }
   ],
   "source": [
    "window.mainloop()"
   ]
  }
 ],
 "metadata": {
  "kernelspec": {
   "display_name": "Python 3",
   "language": "python",
   "name": "python3"
  },
  "language_info": {
   "codemirror_mode": {
    "name": "ipython",
    "version": 3
   },
   "file_extension": ".py",
   "mimetype": "text/x-python",
   "name": "python",
   "nbconvert_exporter": "python",
   "pygments_lexer": "ipython3",
   "version": "3.11.4"
  }
 },
 "nbformat": 4,
 "nbformat_minor": 2
}
